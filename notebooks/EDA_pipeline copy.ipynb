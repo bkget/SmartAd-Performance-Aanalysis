{
 "cells": [
  {
   "cell_type": "markdown",
   "metadata": {},
   "source": [
    "### Importing libraries and packages"
   ]
  },
  {
   "cell_type": "code",
   "execution_count": 89,
   "metadata": {},
   "outputs": [],
   "source": [
    "# Import libraries for our task\n",
    "from sklearn.model_selection import train_test_split\n",
    "from sklearn.linear_model import LogisticRegression\n",
    "from sklearn.ensemble import RandomForestClassifier\n",
    "from sklearn.preprocessing import StandardScaler\n",
    "from sklearn.tree import DecisionTreeClassifier\n",
    "from sklearn.decomposition import PCA\n",
    "from sklearn.pipeline import Pipeline\n",
    "from sklearn import preprocessing\n",
    "\n",
    "import numpy as np\n",
    "import pandas as pd\n",
    "import seaborn as sns \n",
    "import mlflow\n",
    "import matplotlib.pyplot as plt\n"
   ]
  },
  {
   "cell_type": "code",
   "execution_count": 90,
   "metadata": {},
   "outputs": [],
   "source": [
    "# Import system libraries and our Scripts\n",
    "\n",
    "import os\n",
    "import sys\n",
    "import warnings\n",
    "warnings.filterwarnings('ignore')\n",
    "sys.path.append(os.path.abspath(os.path.join('../script')))"
   ]
  },
  {
   "cell_type": "code",
   "execution_count": 91,
   "metadata": {},
   "outputs": [],
   "source": [
    "pd.set_option('display.max_columns', None)\n",
    "pd.set_option('display.max_colwidth', None)\n",
    "pd.set_option(\"expand_frame_repr\", False)\n",
    "pd.set_option('display.float_format', '{:.2f}'.format)"
   ]
  },
  {
   "cell_type": "code",
   "execution_count": 92,
   "metadata": {},
   "outputs": [],
   "source": [
    "# Read AdSmart_AB_testing_data \n",
    "# Import system libraries and our Scripts\n",
    "\n",
    "data  = pd.read_csv(r'C:\\Users\\ende\\Desktop\\abtest-mlops\\data\\AdSmart_AB_testing_data.csv')"
   ]
  },
  {
   "cell_type": "markdown",
   "metadata": {},
   "source": [
    "## Exploring data"
   ]
  },
  {
   "cell_type": "code",
   "execution_count": 93,
   "metadata": {},
   "outputs": [
    {
     "name": "stdout",
     "output_type": "stream",
     "text": [
      "<class 'pandas.core.frame.DataFrame'>\n",
      "RangeIndex: 8077 entries, 0 to 8076\n",
      "Data columns (total 9 columns):\n",
      " #   Column       Non-Null Count  Dtype \n",
      "---  ------       --------------  ----- \n",
      " 0   auction_id   8077 non-null   object\n",
      " 1   experiment   8077 non-null   object\n",
      " 2   date         8077 non-null   object\n",
      " 3   hour         8077 non-null   int64 \n",
      " 4   device_make  8077 non-null   object\n",
      " 5   platform_os  8077 non-null   int64 \n",
      " 6   browser      8077 non-null   object\n",
      " 7   yes          8077 non-null   int64 \n",
      " 8   no           8077 non-null   int64 \n",
      "dtypes: int64(4), object(5)\n",
      "memory usage: 568.0+ KB\n"
     ]
    }
   ],
   "source": [
    "# The types and shape of data features in the dataset\n",
    "\n",
    "data.info()"
   ]
  },
  {
   "cell_type": "code",
   "execution_count": 94,
   "metadata": {},
   "outputs": [
    {
     "name": "stdout",
     "output_type": "stream",
     "text": [
      " There are 8077 rows and 9 columns\n"
     ]
    }
   ],
   "source": [
    "print(f\" There are {data.shape[0]} rows and {data.shape[1]} columns\")"
   ]
  },
  {
   "cell_type": "code",
   "execution_count": 95,
   "metadata": {},
   "outputs": [
    {
     "data": {
      "text/html": [
       "<div>\n",
       "<style scoped>\n",
       "    .dataframe tbody tr th:only-of-type {\n",
       "        vertical-align: middle;\n",
       "    }\n",
       "\n",
       "    .dataframe tbody tr th {\n",
       "        vertical-align: top;\n",
       "    }\n",
       "\n",
       "    .dataframe thead th {\n",
       "        text-align: right;\n",
       "    }\n",
       "</style>\n",
       "<table border=\"1\" class=\"dataframe\">\n",
       "  <thead>\n",
       "    <tr style=\"text-align: right;\">\n",
       "      <th></th>\n",
       "      <th>auction_id</th>\n",
       "      <th>experiment</th>\n",
       "      <th>date</th>\n",
       "      <th>hour</th>\n",
       "      <th>device_make</th>\n",
       "      <th>platform_os</th>\n",
       "      <th>browser</th>\n",
       "      <th>yes</th>\n",
       "      <th>no</th>\n",
       "    </tr>\n",
       "  </thead>\n",
       "  <tbody>\n",
       "    <tr>\n",
       "      <th>0</th>\n",
       "      <td>0008ef63-77a7-448b-bd1e-075f42c55e39</td>\n",
       "      <td>exposed</td>\n",
       "      <td>2020-07-10</td>\n",
       "      <td>8</td>\n",
       "      <td>Generic Smartphone</td>\n",
       "      <td>6</td>\n",
       "      <td>Chrome Mobile</td>\n",
       "      <td>0</td>\n",
       "      <td>0</td>\n",
       "    </tr>\n",
       "    <tr>\n",
       "      <th>1</th>\n",
       "      <td>000eabc5-17ce-4137-8efe-44734d914446</td>\n",
       "      <td>exposed</td>\n",
       "      <td>2020-07-07</td>\n",
       "      <td>10</td>\n",
       "      <td>Generic Smartphone</td>\n",
       "      <td>6</td>\n",
       "      <td>Chrome Mobile</td>\n",
       "      <td>0</td>\n",
       "      <td>0</td>\n",
       "    </tr>\n",
       "    <tr>\n",
       "      <th>2</th>\n",
       "      <td>0016d14a-ae18-4a02-a204-6ba53b52f2ed</td>\n",
       "      <td>exposed</td>\n",
       "      <td>2020-07-05</td>\n",
       "      <td>2</td>\n",
       "      <td>E5823</td>\n",
       "      <td>6</td>\n",
       "      <td>Chrome Mobile WebView</td>\n",
       "      <td>0</td>\n",
       "      <td>1</td>\n",
       "    </tr>\n",
       "    <tr>\n",
       "      <th>3</th>\n",
       "      <td>00187412-2932-4542-a8ef-3633901c98d9</td>\n",
       "      <td>control</td>\n",
       "      <td>2020-07-03</td>\n",
       "      <td>15</td>\n",
       "      <td>Samsung SM-A705FN</td>\n",
       "      <td>6</td>\n",
       "      <td>Facebook</td>\n",
       "      <td>0</td>\n",
       "      <td>0</td>\n",
       "    </tr>\n",
       "  </tbody>\n",
       "</table>\n",
       "</div>"
      ],
      "text/plain": [
       "                             auction_id experiment        date  hour         device_make  platform_os                browser  yes  no\n",
       "0  0008ef63-77a7-448b-bd1e-075f42c55e39    exposed  2020-07-10     8  Generic Smartphone            6          Chrome Mobile    0   0\n",
       "1  000eabc5-17ce-4137-8efe-44734d914446    exposed  2020-07-07    10  Generic Smartphone            6          Chrome Mobile    0   0\n",
       "2  0016d14a-ae18-4a02-a204-6ba53b52f2ed    exposed  2020-07-05     2               E5823            6  Chrome Mobile WebView    0   1\n",
       "3  00187412-2932-4542-a8ef-3633901c98d9    control  2020-07-03    15   Samsung SM-A705FN            6               Facebook    0   0"
      ]
     },
     "execution_count": 95,
     "metadata": {},
     "output_type": "execute_result"
    }
   ],
   "source": [
    "data.head(4)"
   ]
  },
  {
   "cell_type": "code",
   "execution_count": 96,
   "metadata": {},
   "outputs": [
    {
     "data": {
      "text/plain": [
       "auction_id     0\n",
       "experiment     0\n",
       "date           0\n",
       "hour           0\n",
       "device_make    0\n",
       "platform_os    0\n",
       "browser        0\n",
       "yes            0\n",
       "no             0\n",
       "dtype: int64"
      ]
     },
     "execution_count": 96,
     "metadata": {},
     "output_type": "execute_result"
    }
   ],
   "source": [
    "data.isnull().sum()"
   ]
  },
  {
   "cell_type": "code",
   "execution_count": 97,
   "metadata": {},
   "outputs": [
    {
     "data": {
      "text/html": [
       "<div>\n",
       "<style scoped>\n",
       "    .dataframe tbody tr th:only-of-type {\n",
       "        vertical-align: middle;\n",
       "    }\n",
       "\n",
       "    .dataframe tbody tr th {\n",
       "        vertical-align: top;\n",
       "    }\n",
       "\n",
       "    .dataframe thead th {\n",
       "        text-align: right;\n",
       "    }\n",
       "</style>\n",
       "<table border=\"1\" class=\"dataframe\">\n",
       "  <thead>\n",
       "    <tr style=\"text-align: right;\">\n",
       "      <th></th>\n",
       "      <th>hour</th>\n",
       "      <th>platform_os</th>\n",
       "      <th>yes</th>\n",
       "      <th>no</th>\n",
       "    </tr>\n",
       "  </thead>\n",
       "  <tbody>\n",
       "    <tr>\n",
       "      <th>count</th>\n",
       "      <td>8077.00</td>\n",
       "      <td>8077.00</td>\n",
       "      <td>8077.00</td>\n",
       "      <td>8077.00</td>\n",
       "    </tr>\n",
       "    <tr>\n",
       "      <th>mean</th>\n",
       "      <td>11.62</td>\n",
       "      <td>5.95</td>\n",
       "      <td>0.07</td>\n",
       "      <td>0.08</td>\n",
       "    </tr>\n",
       "    <tr>\n",
       "      <th>std</th>\n",
       "      <td>5.73</td>\n",
       "      <td>0.22</td>\n",
       "      <td>0.26</td>\n",
       "      <td>0.28</td>\n",
       "    </tr>\n",
       "    <tr>\n",
       "      <th>min</th>\n",
       "      <td>0.00</td>\n",
       "      <td>5.00</td>\n",
       "      <td>0.00</td>\n",
       "      <td>0.00</td>\n",
       "    </tr>\n",
       "    <tr>\n",
       "      <th>25%</th>\n",
       "      <td>7.00</td>\n",
       "      <td>6.00</td>\n",
       "      <td>0.00</td>\n",
       "      <td>0.00</td>\n",
       "    </tr>\n",
       "    <tr>\n",
       "      <th>50%</th>\n",
       "      <td>13.00</td>\n",
       "      <td>6.00</td>\n",
       "      <td>0.00</td>\n",
       "      <td>0.00</td>\n",
       "    </tr>\n",
       "    <tr>\n",
       "      <th>75%</th>\n",
       "      <td>15.00</td>\n",
       "      <td>6.00</td>\n",
       "      <td>0.00</td>\n",
       "      <td>0.00</td>\n",
       "    </tr>\n",
       "    <tr>\n",
       "      <th>max</th>\n",
       "      <td>23.00</td>\n",
       "      <td>7.00</td>\n",
       "      <td>1.00</td>\n",
       "      <td>1.00</td>\n",
       "    </tr>\n",
       "  </tbody>\n",
       "</table>\n",
       "</div>"
      ],
      "text/plain": [
       "         hour  platform_os     yes      no\n",
       "count 8077.00      8077.00 8077.00 8077.00\n",
       "mean    11.62         5.95    0.07    0.08\n",
       "std      5.73         0.22    0.26    0.28\n",
       "min      0.00         5.00    0.00    0.00\n",
       "25%      7.00         6.00    0.00    0.00\n",
       "50%     13.00         6.00    0.00    0.00\n",
       "75%     15.00         6.00    0.00    0.00\n",
       "max     23.00         7.00    1.00    1.00"
      ]
     },
     "execution_count": 97,
     "metadata": {},
     "output_type": "execute_result"
    }
   ],
   "source": [
    "# Information about the numeric data\n",
    "\n",
    "data.describe()"
   ]
  },
  {
   "cell_type": "code",
   "execution_count": 98,
   "metadata": {},
   "outputs": [
    {
     "data": {
      "text/plain": [
       "8077"
      ]
     },
     "execution_count": 98,
     "metadata": {},
     "output_type": "execute_result"
    }
   ],
   "source": [
    "data['auction_id'].nunique()"
   ]
  },
  {
   "cell_type": "code",
   "execution_count": 99,
   "metadata": {},
   "outputs": [
    {
     "data": {
      "text/plain": [
       "control    4071\n",
       "exposed    4006\n",
       "Name: experiment, dtype: int64"
      ]
     },
     "execution_count": 99,
     "metadata": {},
     "output_type": "execute_result"
    }
   ],
   "source": [
    "data['experiment'].value_counts()"
   ]
  },
  {
   "cell_type": "code",
   "execution_count": 100,
   "metadata": {},
   "outputs": [
    {
     "data": {
      "text/plain": [
       "0    7505\n",
       "1     572\n",
       "Name: yes, dtype: int64"
      ]
     },
     "execution_count": 100,
     "metadata": {},
     "output_type": "execute_result"
    }
   ],
   "source": [
    "data['yes'].value_counts()"
   ]
  },
  {
   "cell_type": "code",
   "execution_count": 101,
   "metadata": {},
   "outputs": [
    {
     "data": {
      "text/plain": [
       "0    7406\n",
       "1     671\n",
       "Name: no, dtype: int64"
      ]
     },
     "execution_count": 101,
     "metadata": {},
     "output_type": "execute_result"
    }
   ],
   "source": [
    "data['no'].value_counts()"
   ]
  },
  {
   "cell_type": "code",
   "execution_count": 102,
   "metadata": {},
   "outputs": [
    {
     "data": {
      "text/plain": [
       "<AxesSubplot:ylabel='None'>"
      ]
     },
     "execution_count": 102,
     "metadata": {},
     "output_type": "execute_result"
    },
    {
     "data": {
      "image/png": "[encoded data removed]",
      "text/plain": [
       "<Figure size 432x288 with 1 Axes>"
      ]
     },
     "metadata": {},
     "output_type": "display_data"
    }
   ],
   "source": [
    "data[['yes','no']].value_counts().plot(kind='pie')"
   ]
  },
  {
   "cell_type": "code",
   "execution_count": 103,
   "metadata": {},
   "outputs": [
    {
     "data": {
      "text/html": [
       "<div>\n",
       "<style scoped>\n",
       "    .dataframe tbody tr th:only-of-type {\n",
       "        vertical-align: middle;\n",
       "    }\n",
       "\n",
       "    .dataframe tbody tr th {\n",
       "        vertical-align: top;\n",
       "    }\n",
       "\n",
       "    .dataframe thead th {\n",
       "        text-align: right;\n",
       "    }\n",
       "</style>\n",
       "<table border=\"1\" class=\"dataframe\">\n",
       "  <thead>\n",
       "    <tr style=\"text-align: right;\">\n",
       "      <th></th>\n",
       "      <th>auction_id</th>\n",
       "      <th>date</th>\n",
       "      <th>hour</th>\n",
       "      <th>device_make</th>\n",
       "      <th>platform_os</th>\n",
       "      <th>browser</th>\n",
       "      <th>yes</th>\n",
       "      <th>no</th>\n",
       "    </tr>\n",
       "    <tr>\n",
       "      <th>experiment</th>\n",
       "      <th></th>\n",
       "      <th></th>\n",
       "      <th></th>\n",
       "      <th></th>\n",
       "      <th></th>\n",
       "      <th></th>\n",
       "      <th></th>\n",
       "      <th></th>\n",
       "    </tr>\n",
       "  </thead>\n",
       "  <tbody>\n",
       "    <tr>\n",
       "      <th>control</th>\n",
       "      <td>4071</td>\n",
       "      <td>4071</td>\n",
       "      <td>4071</td>\n",
       "      <td>4071</td>\n",
       "      <td>4071</td>\n",
       "      <td>4071</td>\n",
       "      <td>4071</td>\n",
       "      <td>4071</td>\n",
       "    </tr>\n",
       "    <tr>\n",
       "      <th>exposed</th>\n",
       "      <td>4006</td>\n",
       "      <td>4006</td>\n",
       "      <td>4006</td>\n",
       "      <td>4006</td>\n",
       "      <td>4006</td>\n",
       "      <td>4006</td>\n",
       "      <td>4006</td>\n",
       "      <td>4006</td>\n",
       "    </tr>\n",
       "  </tbody>\n",
       "</table>\n",
       "</div>"
      ],
      "text/plain": [
       "            auction_id  date  hour  device_make  platform_os  browser   yes    no\n",
       "experiment                                                                       \n",
       "control           4071  4071  4071         4071         4071     4071  4071  4071\n",
       "exposed           4006  4006  4006         4006         4006     4006  4006  4006"
      ]
     },
     "execution_count": 103,
     "metadata": {},
     "output_type": "execute_result"
    }
   ],
   "source": [
    "data.groupby(['experiment']).count()"
   ]
  },
  {
   "cell_type": "markdown",
   "metadata": {},
   "source": [
    "Since we have users who donot respond to the experiment let us remove them from our dataframe."
   ]
  },
  {
   "cell_type": "code",
   "execution_count": 104,
   "metadata": {},
   "outputs": [],
   "source": [
    "def delete_no_respond_users(df):\n",
    "    cleaned_df = df.query(\"not (yes == 0 & no == 0)\")\n",
    "    return cleaned_df\n",
    "    \n",
    "clean_df = delete_no_respond_users(data)"
   ]
  },
  {
   "cell_type": "code",
   "execution_count": 105,
   "metadata": {},
   "outputs": [
    {
     "data": {
      "text/html": [
       "<div>\n",
       "<style scoped>\n",
       "    .dataframe tbody tr th:only-of-type {\n",
       "        vertical-align: middle;\n",
       "    }\n",
       "\n",
       "    .dataframe tbody tr th {\n",
       "        vertical-align: top;\n",
       "    }\n",
       "\n",
       "    .dataframe thead th {\n",
       "        text-align: right;\n",
       "    }\n",
       "</style>\n",
       "<table border=\"1\" class=\"dataframe\">\n",
       "  <thead>\n",
       "    <tr style=\"text-align: right;\">\n",
       "      <th></th>\n",
       "      <th>auction_id</th>\n",
       "      <th>date</th>\n",
       "      <th>hour</th>\n",
       "      <th>device_make</th>\n",
       "      <th>platform_os</th>\n",
       "      <th>browser</th>\n",
       "      <th>yes</th>\n",
       "      <th>no</th>\n",
       "    </tr>\n",
       "    <tr>\n",
       "      <th>experiment</th>\n",
       "      <th></th>\n",
       "      <th></th>\n",
       "      <th></th>\n",
       "      <th></th>\n",
       "      <th></th>\n",
       "      <th></th>\n",
       "      <th></th>\n",
       "      <th></th>\n",
       "    </tr>\n",
       "  </thead>\n",
       "  <tbody>\n",
       "    <tr>\n",
       "      <th>control</th>\n",
       "      <td>586</td>\n",
       "      <td>586</td>\n",
       "      <td>586</td>\n",
       "      <td>586</td>\n",
       "      <td>586</td>\n",
       "      <td>586</td>\n",
       "      <td>586</td>\n",
       "      <td>586</td>\n",
       "    </tr>\n",
       "    <tr>\n",
       "      <th>exposed</th>\n",
       "      <td>657</td>\n",
       "      <td>657</td>\n",
       "      <td>657</td>\n",
       "      <td>657</td>\n",
       "      <td>657</td>\n",
       "      <td>657</td>\n",
       "      <td>657</td>\n",
       "      <td>657</td>\n",
       "    </tr>\n",
       "  </tbody>\n",
       "</table>\n",
       "</div>"
      ],
      "text/plain": [
       "            auction_id  date  hour  device_make  platform_os  browser  yes   no\n",
       "experiment                                                                     \n",
       "control            586   586   586          586          586      586  586  586\n",
       "exposed            657   657   657          657          657      657  657  657"
      ]
     },
     "execution_count": 105,
     "metadata": {},
     "output_type": "execute_result"
    }
   ],
   "source": [
    "clean_df.groupby(['experiment']).count()"
   ]
  },
  {
   "cell_type": "code",
   "execution_count": 106,
   "metadata": {},
   "outputs": [
    {
     "data": {
      "text/plain": [
       "<AxesSubplot:title={'center':'Total number of users who said Yes and No'}, xlabel='yes,no'>"
      ]
     },
     "execution_count": 106,
     "metadata": {},
     "output_type": "execute_result"
    },
    {
     "data": {
      "image/png": "[encoded data removed]",
      "text/plain": [
       "<Figure size 432x288 with 1 Axes>"
      ]
     },
     "metadata": {
      "needs_background": "light"
     },
     "output_type": "display_data"
    }
   ],
   "source": [
    "clean_df[['yes','no']].value_counts().plot(kind='bar', title=\"Total number of users who said Yes and No\")"
   ]
  },
  {
   "cell_type": "code",
   "execution_count": 107,
   "metadata": {},
   "outputs": [
    {
     "data": {
      "text/plain": [
       "<AxesSubplot:title={'center':'Users who said Yes'}, xlabel='experiment'>"
      ]
     },
     "execution_count": 107,
     "metadata": {},
     "output_type": "execute_result"
    },
    {
     "data": {
      "image/png": "[encoded data removed]",
      "text/plain": [
       "<Figure size 432x288 with 1 Axes>"
      ]
     },
     "metadata": {
      "needs_background": "light"
     },
     "output_type": "display_data"
    }
   ],
   "source": [
    "clean_df.groupby('experiment').count()['yes'].plot.bar(rot=0, title=\"Users who said Yes\")"
   ]
  },
  {
   "cell_type": "code",
   "execution_count": 108,
   "metadata": {},
   "outputs": [
    {
     "data": {
      "text/plain": [
       "<AxesSubplot:title={'center':'Users who said No'}, xlabel='experiment'>"
      ]
     },
     "execution_count": 108,
     "metadata": {},
     "output_type": "execute_result"
    },
    {
     "data": {
      "image/png": "[encoded data removed]",
      "text/plain": [
       "<Figure size 432x288 with 1 Axes>"
      ]
     },
     "metadata": {
      "needs_background": "light"
     },
     "output_type": "display_data"
    }
   ],
   "source": [
    "clean_df.groupby('experiment').count()['no'].plot.bar(rot=0, title=\"Users who said No\")"
   ]
  },
  {
   "cell_type": "code",
   "execution_count": 109,
   "metadata": {},
   "outputs": [
    {
     "data": {
      "text/html": [
       "<div>\n",
       "<style scoped>\n",
       "    .dataframe tbody tr th:only-of-type {\n",
       "        vertical-align: middle;\n",
       "    }\n",
       "\n",
       "    .dataframe tbody tr th {\n",
       "        vertical-align: top;\n",
       "    }\n",
       "\n",
       "    .dataframe thead th {\n",
       "        text-align: right;\n",
       "    }\n",
       "</style>\n",
       "<table border=\"1\" class=\"dataframe\">\n",
       "  <thead>\n",
       "    <tr style=\"text-align: right;\">\n",
       "      <th></th>\n",
       "      <th>auction_id</th>\n",
       "      <th>date</th>\n",
       "      <th>hour</th>\n",
       "      <th>device_make</th>\n",
       "      <th>platform_os</th>\n",
       "      <th>browser</th>\n",
       "      <th>yes</th>\n",
       "      <th>no</th>\n",
       "    </tr>\n",
       "    <tr>\n",
       "      <th>experiment</th>\n",
       "      <th></th>\n",
       "      <th></th>\n",
       "      <th></th>\n",
       "      <th></th>\n",
       "      <th></th>\n",
       "      <th></th>\n",
       "      <th></th>\n",
       "      <th></th>\n",
       "    </tr>\n",
       "  </thead>\n",
       "  <tbody>\n",
       "    <tr>\n",
       "      <th>control</th>\n",
       "      <td>586</td>\n",
       "      <td>586</td>\n",
       "      <td>586</td>\n",
       "      <td>586</td>\n",
       "      <td>586</td>\n",
       "      <td>586</td>\n",
       "      <td>586</td>\n",
       "      <td>586</td>\n",
       "    </tr>\n",
       "    <tr>\n",
       "      <th>exposed</th>\n",
       "      <td>657</td>\n",
       "      <td>657</td>\n",
       "      <td>657</td>\n",
       "      <td>657</td>\n",
       "      <td>657</td>\n",
       "      <td>657</td>\n",
       "      <td>657</td>\n",
       "      <td>657</td>\n",
       "    </tr>\n",
       "  </tbody>\n",
       "</table>\n",
       "</div>"
      ],
      "text/plain": [
       "            auction_id  date  hour  device_make  platform_os  browser  yes   no\n",
       "experiment                                                                     \n",
       "control            586   586   586          586          586      586  586  586\n",
       "exposed            657   657   657          657          657      657  657  657"
      ]
     },
     "execution_count": 109,
     "metadata": {},
     "output_type": "execute_result"
    }
   ],
   "source": [
    "clean_df.groupby(['experiment']).count()"
   ]
  },
  {
   "cell_type": "code",
   "execution_count": 110,
   "metadata": {},
   "outputs": [],
   "source": [
    "indexNames = clean_df[(data['yes'] == 0) & (data['no'] == 0)].index\n",
    "# Delete these row indexes from dataFrame\n",
    "clean_df.drop(indexNames , inplace=True)"
   ]
  },
  {
   "cell_type": "code",
   "execution_count": 111,
   "metadata": {},
   "outputs": [
    {
     "data": {
      "text/html": [
       "<div>\n",
       "<style scoped>\n",
       "    .dataframe tbody tr th:only-of-type {\n",
       "        vertical-align: middle;\n",
       "    }\n",
       "\n",
       "    .dataframe tbody tr th {\n",
       "        vertical-align: top;\n",
       "    }\n",
       "\n",
       "    .dataframe thead th {\n",
       "        text-align: right;\n",
       "    }\n",
       "</style>\n",
       "<table border=\"1\" class=\"dataframe\">\n",
       "  <thead>\n",
       "    <tr style=\"text-align: right;\">\n",
       "      <th></th>\n",
       "      <th>auction_id</th>\n",
       "      <th>date</th>\n",
       "      <th>hour</th>\n",
       "      <th>device_make</th>\n",
       "      <th>platform_os</th>\n",
       "      <th>browser</th>\n",
       "      <th>yes</th>\n",
       "      <th>no</th>\n",
       "    </tr>\n",
       "    <tr>\n",
       "      <th>experiment</th>\n",
       "      <th></th>\n",
       "      <th></th>\n",
       "      <th></th>\n",
       "      <th></th>\n",
       "      <th></th>\n",
       "      <th></th>\n",
       "      <th></th>\n",
       "      <th></th>\n",
       "    </tr>\n",
       "  </thead>\n",
       "  <tbody>\n",
       "    <tr>\n",
       "      <th>control</th>\n",
       "      <td>586</td>\n",
       "      <td>586</td>\n",
       "      <td>586</td>\n",
       "      <td>586</td>\n",
       "      <td>586</td>\n",
       "      <td>586</td>\n",
       "      <td>586</td>\n",
       "      <td>586</td>\n",
       "    </tr>\n",
       "    <tr>\n",
       "      <th>exposed</th>\n",
       "      <td>657</td>\n",
       "      <td>657</td>\n",
       "      <td>657</td>\n",
       "      <td>657</td>\n",
       "      <td>657</td>\n",
       "      <td>657</td>\n",
       "      <td>657</td>\n",
       "      <td>657</td>\n",
       "    </tr>\n",
       "  </tbody>\n",
       "</table>\n",
       "</div>"
      ],
      "text/plain": [
       "            auction_id  date  hour  device_make  platform_os  browser  yes   no\n",
       "experiment                                                                     \n",
       "control            586   586   586          586          586      586  586  586\n",
       "exposed            657   657   657          657          657      657  657  657"
      ]
     },
     "execution_count": 111,
     "metadata": {},
     "output_type": "execute_result"
    }
   ],
   "source": [
    "clean_df.groupby(['experiment']).count()"
   ]
  },
  {
   "cell_type": "code",
   "execution_count": 112,
   "metadata": {},
   "outputs": [
    {
     "data": {
      "text/plain": [
       "<AxesSubplot:xlabel='yes,no'>"
      ]
     },
     "execution_count": 112,
     "metadata": {},
     "output_type": "execute_result"
    },
    {
     "data": {
      "image/png": "[encoded data removed]",
      "text/plain": [
       "<Figure size 432x288 with 1 Axes>"
      ]
     },
     "metadata": {
      "needs_background": "light"
     },
     "output_type": "display_data"
    }
   ],
   "source": [
    "clean_df[['yes','no']].value_counts().plot(kind='bar',color='orange')"
   ]
  },
  {
   "cell_type": "markdown",
   "metadata": {},
   "source": [
    "#### Data Transformation"
   ]
  },
  {
   "cell_type": "markdown",
   "metadata": {},
   "source": [
    "Map *yes* to *aware* column and remove *yes* and *no*"
   ]
  },
  {
   "cell_type": "code",
   "execution_count": 113,
   "metadata": {},
   "outputs": [
    {
     "data": {
      "text/html": [
       "<div>\n",
       "<style scoped>\n",
       "    .dataframe tbody tr th:only-of-type {\n",
       "        vertical-align: middle;\n",
       "    }\n",
       "\n",
       "    .dataframe tbody tr th {\n",
       "        vertical-align: top;\n",
       "    }\n",
       "\n",
       "    .dataframe thead th {\n",
       "        text-align: right;\n",
       "    }\n",
       "</style>\n",
       "<table border=\"1\" class=\"dataframe\">\n",
       "  <thead>\n",
       "    <tr style=\"text-align: right;\">\n",
       "      <th></th>\n",
       "      <th>auction_id</th>\n",
       "      <th>experiment</th>\n",
       "      <th>date</th>\n",
       "      <th>hour</th>\n",
       "      <th>device_make</th>\n",
       "      <th>platform_os</th>\n",
       "      <th>browser</th>\n",
       "      <th>aware</th>\n",
       "    </tr>\n",
       "  </thead>\n",
       "  <tbody>\n",
       "    <tr>\n",
       "      <th>2</th>\n",
       "      <td>0016d14a-ae18-4a02-a204-6ba53b52f2ed</td>\n",
       "      <td>exposed</td>\n",
       "      <td>2020-07-05</td>\n",
       "      <td>2</td>\n",
       "      <td>E5823</td>\n",
       "      <td>6</td>\n",
       "      <td>Chrome Mobile WebView</td>\n",
       "      <td>False</td>\n",
       "    </tr>\n",
       "    <tr>\n",
       "      <th>16</th>\n",
       "      <td>008aafdf-deef-4482-8fec-d98e3da054da</td>\n",
       "      <td>exposed</td>\n",
       "      <td>2020-07-04</td>\n",
       "      <td>16</td>\n",
       "      <td>Generic Smartphone</td>\n",
       "      <td>6</td>\n",
       "      <td>Chrome Mobile</td>\n",
       "      <td>True</td>\n",
       "    </tr>\n",
       "    <tr>\n",
       "      <th>20</th>\n",
       "      <td>00a1384a-5118-4d1b-925b-6cdada50318d</td>\n",
       "      <td>exposed</td>\n",
       "      <td>2020-07-06</td>\n",
       "      <td>8</td>\n",
       "      <td>Generic Smartphone</td>\n",
       "      <td>6</td>\n",
       "      <td>Chrome Mobile</td>\n",
       "      <td>False</td>\n",
       "    </tr>\n",
       "    <tr>\n",
       "      <th>23</th>\n",
       "      <td>00b6fadb-10bd-49e3-a778-290da82f7a8d</td>\n",
       "      <td>control</td>\n",
       "      <td>2020-07-08</td>\n",
       "      <td>4</td>\n",
       "      <td>Samsung SM-A202F</td>\n",
       "      <td>6</td>\n",
       "      <td>Facebook</td>\n",
       "      <td>True</td>\n",
       "    </tr>\n",
       "    <tr>\n",
       "      <th>27</th>\n",
       "      <td>00ebf4a8-060f-4b99-93ac-c62724399483</td>\n",
       "      <td>control</td>\n",
       "      <td>2020-07-03</td>\n",
       "      <td>15</td>\n",
       "      <td>Generic Smartphone</td>\n",
       "      <td>6</td>\n",
       "      <td>Chrome Mobile</td>\n",
       "      <td>False</td>\n",
       "    </tr>\n",
       "  </tbody>\n",
       "</table>\n",
       "</div>"
      ],
      "text/plain": [
       "                              auction_id experiment        date  hour         device_make  platform_os                browser  aware\n",
       "2   0016d14a-ae18-4a02-a204-6ba53b52f2ed    exposed  2020-07-05     2               E5823            6  Chrome Mobile WebView  False\n",
       "16  008aafdf-deef-4482-8fec-d98e3da054da    exposed  2020-07-04    16  Generic Smartphone            6          Chrome Mobile   True\n",
       "20  00a1384a-5118-4d1b-925b-6cdada50318d    exposed  2020-07-06     8  Generic Smartphone            6          Chrome Mobile  False\n",
       "23  00b6fadb-10bd-49e3-a778-290da82f7a8d    control  2020-07-08     4    Samsung SM-A202F            6               Facebook   True\n",
       "27  00ebf4a8-060f-4b99-93ac-c62724399483    control  2020-07-03    15  Generic Smartphone            6          Chrome Mobile  False"
      ]
     },
     "execution_count": 113,
     "metadata": {},
     "output_type": "execute_result"
    }
   ],
   "source": [
    "clean_df['aware'] = clean_df['yes'].map(lambda x: x==1)\n",
    "clean_df = clean_df.drop(columns = ['yes', 'no'], axis=1)\n",
    "clean_df.head()"
   ]
  },
  {
   "cell_type": "code",
   "execution_count": 114,
   "metadata": {},
   "outputs": [],
   "source": [
    "# Encode aware to 0 and 1\n",
    "clean_df['aware'] = clean_df['aware'].astype(int)"
   ]
  },
  {
   "cell_type": "code",
   "execution_count": 115,
   "metadata": {},
   "outputs": [],
   "source": [
    "from sklearn.preprocessing import LabelEncoder\n",
    "# change categorical variables to numerical value\n",
    "lb = LabelEncoder()\n",
    "clean_df['experiment'] = lb.fit_transform(clean_df['experiment'])\n",
    "clean_df['browser'] = lb.fit_transform(clean_df['browser'])\n",
    "clean_df['device_make'] = lb.fit_transform(clean_df['device_make'])\n",
    "clean_df['date'] = lb.fit_transform(clean_df['date'])\n",
    "clean_df['aware'] = lb.fit_transform(clean_df['aware'])\n"
   ]
  },
  {
   "cell_type": "markdown",
   "metadata": {},
   "source": [
    "Model training "
   ]
  },
  {
   "cell_type": "code",
   "execution_count": 116,
   "metadata": {},
   "outputs": [],
   "source": [
    "# feature_cols = [\"experiment\", \"hour\", \"date\", 'device_make', \"platform_os\",  \"browser\"]\n",
    "feature_cols = [\"experiment\", \"hour\", \"date\", 'device_make', 'browser']\n",
    "\n",
    "X = clean_df[feature_cols]\n",
    "y = clean_df[['aware']]\n",
    "\n",
    "test_size = 0.3\n",
    "\n",
    "X_train, X_test, y_train, y_test = train_test_split(X, y, test_size=test_size, random_state=42)"
   ]
  },
  {
   "cell_type": "code",
   "execution_count": 117,
   "metadata": {},
   "outputs": [
    {
     "name": "stderr",
     "output_type": "stream",
     "text": [
      "2022/05/20 03:37:21 WARNING mlflow.utils.autologging_utils: Encountered unexpected error during sklearn autologging: The following failures occurred while performing one or more logging operations: [MlflowException('Failed to perform one or more operations on the run with ID c490675b422e4fe6b2b449e591003eef. Failed operations: [MlflowException(\"Changing param values is not allowed. Param with key=\\'criterion\\' was already logged with value=\\'mse\\' for run ID=\\'c490675b422e4fe6b2b449e591003eef\\'. Attempted logging new value \\'gini\\'.\")]')]\n"
     ]
    },
    {
     "name": "stdout",
     "output_type": "stream",
     "text": [
      "Predicted: [0 1 0 0 1 0 1 0 0 1]\n",
      "Actual:       aware\n",
      "5938      1\n",
      "6661      0\n",
      "4579      0\n",
      "4243      0\n",
      "6058      1\n",
      "6629      0\n",
      "5037      1\n",
      "6138      1\n",
      "3131      0\n",
      "3036      1\n"
     ]
    }
   ],
   "source": [
    "# Define Random Forest Model\n",
    "rf = RandomForestClassifier(n_estimators=100)\n",
    "\n",
    "# We fit our model with our train data\n",
    "rf.fit(X_train, y_train)\n",
    "\n",
    "# Then predict results from X_test data\n",
    "pred_rf = rf.predict(X_test)\n",
    "\n",
    "# See First 10 Predictions and They Actual Values\n",
    "print(\"Predicted:\", pred_rf[0:10])\n",
    "print(\"Actual:\", y_test[0:10])"
   ]
  },
  {
   "cell_type": "code",
   "execution_count": 118,
   "metadata": {},
   "outputs": [
    {
     "name": "stderr",
     "output_type": "stream",
     "text": [
      "2022/05/20 03:37:41 WARNING mlflow.utils.autologging_utils: Encountered unexpected error during sklearn autologging: The following failures occurred while performing one or more logging operations: [MlflowException('Failed to perform one or more operations on the run with ID c490675b422e4fe6b2b449e591003eef. Failed operations: [MlflowException(\"Changing param values is not allowed. Param with key=\\'criterion\\' was already logged with value=\\'mse\\' for run ID=\\'c490675b422e4fe6b2b449e591003eef\\'. Attempted logging new value \\'gini\\'.\")]')]\n"
     ]
    },
    {
     "name": "stdout",
     "output_type": "stream",
     "text": [
      "Predicted: [0 0 0 0 1 0 1 0 0 0]\n",
      "Actual:       aware\n",
      "5938      1\n",
      "6661      0\n",
      "4579      0\n",
      "4243      0\n",
      "6058      1\n",
      "6629      0\n",
      "5037      1\n",
      "6138      1\n",
      "3131      0\n",
      "3036      1\n"
     ]
    }
   ],
   "source": [
    "# Define Decision Tree Model\n",
    "dt = DecisionTreeClassifier()\n",
    "# We fit our model with our train data\n",
    "dt.fit(X_train, y_train)\n",
    "# Then predict results from X_test data\n",
    "pred_dt = dt.predict(X_test)\n",
    "\n",
    "# See First 10 Predictions and They Actual Values\n",
    "print(\"Predicted:\", pred_dt[0:10])\n",
    "print(\"Actual:\", y_test[0:10])"
   ]
  },
  {
   "cell_type": "code",
   "execution_count": 119,
   "metadata": {},
   "outputs": [
    {
     "name": "stdout",
     "output_type": "stream",
     "text": [
      "Predicted: [0 1 0 0 1 0 1 0 0 0]\n",
      "Actual:       aware\n",
      "5938      1\n",
      "6661      0\n",
      "4579      0\n",
      "4243      0\n",
      "6058      1\n",
      "6629      0\n",
      "5037      1\n",
      "6138      1\n",
      "3131      0\n",
      "3036      1\n"
     ]
    }
   ],
   "source": [
    "# Define Logistic Regression Model\n",
    "log = LogisticRegression()\n",
    "# We fit our model with our train data\n",
    "log.fit(X_train, y_train)\n",
    "# Then predict results from X_test data\n",
    "pred_log = log.predict(X_test)\n",
    "\n",
    "# See First 10 Predictions and They Actual Values\n",
    "print(\"Predicted:\", pred_log[0:10])\n",
    "print(\"Actual:\", y_test[0:10])"
   ]
  },
  {
   "cell_type": "code",
   "execution_count": 120,
   "metadata": {},
   "outputs": [
    {
     "name": "stdout",
     "output_type": "stream",
     "text": [
      "Predicted: [1 0 0 0 0 0 0 0 0 0]\n",
      "Actual:       aware\n",
      "5938      1\n",
      "6661      0\n",
      "4579      0\n",
      "4243      0\n",
      "6058      1\n",
      "6629      0\n",
      "5037      1\n",
      "6138      1\n",
      "3131      0\n",
      "3036      1\n"
     ]
    }
   ],
   "source": [
    "from sklearn.naive_bayes import BernoulliNB, GaussianNB\n",
    "# Define Bernouilli Naive Bias Model\n",
    "bnb = BernoulliNB()\n",
    "# We fit our model with our train data\n",
    "bnb.fit(X_train, y_train)\n",
    "# Then predict results from X_test data\n",
    "pred_bnb = bnb.predict(X_test)\n",
    "\n",
    "# See First 10 Predictions and They Actual Values\n",
    "print(\"Predicted:\", pred_bnb[0:10])\n",
    "print(\"Actual:\", y_test[0:10])"
   ]
  },
  {
   "cell_type": "code",
   "execution_count": 121,
   "metadata": {},
   "outputs": [
    {
     "name": "stdout",
     "output_type": "stream",
     "text": [
      "Predicted: [0 1 0 0 1 0 1 1 0 0]\n",
      "Actual:       aware\n",
      "5938      1\n",
      "6661      0\n",
      "4579      0\n",
      "4243      0\n",
      "6058      1\n",
      "6629      0\n",
      "5037      1\n",
      "6138      1\n",
      "3131      0\n",
      "3036      1\n"
     ]
    }
   ],
   "source": [
    "# Define Gaussian Naive Bias Model\n",
    "gnb = GaussianNB()\n",
    "# We fit our model with our train data\n",
    "gnb.fit(X_train, y_train)\n",
    "# Then predict results from X_test data\n",
    "pred_gnb = gnb.predict(X_test)\n",
    "\n",
    "# See First 10 Predictions and They Actual Values\n",
    "print(\"Predicted:\", pred_gnb[0:10])\n",
    "print(\"Actual:\", y_test[0:10])"
   ]
  },
  {
   "cell_type": "code",
   "execution_count": 122,
   "metadata": {},
   "outputs": [
    {
     "name": "stdout",
     "output_type": "stream",
     "text": [
      "Predicted: [0 0 1 0 1 0 1 0 1 1]\n",
      "Actual:       aware\n",
      "5938      1\n",
      "6661      0\n",
      "4579      0\n",
      "4243      0\n",
      "6058      1\n",
      "6629      0\n",
      "5037      1\n",
      "6138      1\n",
      "3131      0\n",
      "3036      1\n"
     ]
    }
   ],
   "source": [
    "from sklearn.neighbors import KNeighborsClassifier\n",
    "# Define KNN Model\n",
    "knn = KNeighborsClassifier(n_neighbors=3, metric=\"minkowski\")\n",
    "# We fit our model with our train data\n",
    "knn.fit(X_train, y_train)\n",
    "# Then predict results from X_test data\n",
    "pred_knn = knn.predict(X_test)\n",
    "\n",
    "# See First 10 Predictions and They Actual Values\n",
    "print(\"Predicted:\", pred_knn[0:10])\n",
    "print(\"Actual:\", y_test[0:10])"
   ]
  },
  {
   "cell_type": "code",
   "execution_count": 123,
   "metadata": {},
   "outputs": [
    {
     "name": "stderr",
     "output_type": "stream",
     "text": [
      "2022/05/20 03:38:55 WARNING mlflow.utils.autologging_utils: Encountered unexpected error during xgboost autologging: The following failures occurred while performing one or more logging operations: [MlflowException('Failed to perform one or more operations on the run with ID c490675b422e4fe6b2b449e591003eef. Failed operations: [MlflowException(\"Changing param values is not allowed. Param with key=\\'max_depth\\' was already logged with value=\\'6\\' for run ID=\\'c490675b422e4fe6b2b449e591003eef\\'. Attempted logging new value \\'None\\'.\")]')]\n"
     ]
    },
    {
     "name": "stdout",
     "output_type": "stream",
     "text": [
      "Actual:       aware\n",
      "5938      1\n",
      "6661      0\n",
      "4579      0\n",
      "4243      0\n",
      "6058      1\n",
      "6629      0\n",
      "5037      1\n",
      "6138      1\n",
      "3131      0\n",
      "3036      1\n"
     ]
    }
   ],
   "source": [
    "from xgboost import XGBClassifier\n",
    "# Define XGBoost Model\n",
    "xgb = XGBClassifier(n_estimators=1000, learning_rate=0.05)\n",
    "# We fit our model with our train data\n",
    "xgb.fit(\n",
    "    X_train, y_train,\n",
    "    # That means if model don't improve it self in 5 rounds, it will stop learning\n",
    "    # So you can save your time and don't overtrain your model.\n",
    "    early_stopping_rounds=5,\n",
    "    # We provide Test data's to evaluate model performance\n",
    "    eval_set=[(X_test, y_test)],\n",
    "    verbose=False\n",
    " )\n",
    "# Then predict results from X_test data\n",
    "pred_xgb = xgb.predict(X_test)\n",
    "\n",
    "# See First 10 Predictions and They Actual Values\n",
    "# print(\"Predicted:\", pred_xgb[0:10])\n",
    "print(\"Actual:\", y_test[0:10])"
   ]
  },
  {
   "cell_type": "code",
   "execution_count": 124,
   "metadata": {},
   "outputs": [
    {
     "name": "stdout",
     "output_type": "stream",
     "text": [
      "***********************\n",
      "Confusion Matrixes\n",
      "***********************\n",
      "Random Forest:\n",
      " [[135  66]\n",
      " [ 97  75]]\n",
      "Desicion Tree:\n",
      " [[131  70]\n",
      " [109  63]]\n",
      "Logistic Regression:\n",
      " [[173  28]\n",
      " [145  27]]\n",
      "Bernouilli Naive Bias:\n",
      " [[197   4]\n",
      " [167   5]]\n",
      "Gaussian Naive Bias:\n",
      " [[165  36]\n",
      " [127  45]]\n",
      "KNN (K-Nearest Neighbors):\n",
      " [[100 101]\n",
      " [ 99  73]]\n",
      "XGBoost:\n",
      " [[166  35]\n",
      " [127  45]]\n"
     ]
    }
   ],
   "source": [
    "# Confusion Matrixes\n",
    "# First parameter is actual value\n",
    "# second parameter is value that we prediceted\n",
    "from sklearn.metrics import accuracy_score, confusion_matrix\n",
    "# Random Forest \n",
    "cm_rf = confusion_matrix(y_test, pred_rf)\n",
    "# Desicion Tree\n",
    "cm_dt = confusion_matrix(y_test, pred_dt)\n",
    "# Logistic Regression\n",
    "cm_log = confusion_matrix(y_test, pred_log)\n",
    "# Bernouilli Naive Bias\n",
    "cm_bnb = confusion_matrix(y_test, pred_bnb)\n",
    "# Gaussian Naive Bias\n",
    "cm_gnb = confusion_matrix(y_test, pred_gnb)\n",
    "# KNN (K-Nearest Neighbors)\n",
    "cm_knn = confusion_matrix(y_test, pred_knn)\n",
    "# XGBoost \n",
    "cm_xgb = confusion_matrix(y_test, pred_xgb)\n",
    "\n",
    "print(\"***********************\")\n",
    "print(\"Confusion Matrixes\")\n",
    "print(\"***********************\")\n",
    "print(\"Random Forest:\\n\", cm_rf)\n",
    "print(\"Desicion Tree:\\n\", cm_dt)\n",
    "print(\"Logistic Regression:\\n\", cm_log)\n",
    "print(\"Bernouilli Naive Bias:\\n\", cm_bnb)\n",
    "print(\"Gaussian Naive Bias:\\n\", cm_gnb)\n",
    "print(\"KNN (K-Nearest Neighbors):\\n\", cm_knn)\n",
    "print(\"XGBoost:\\n\", cm_xgb)"
   ]
  },
  {
   "cell_type": "code",
   "execution_count": 125,
   "metadata": {},
   "outputs": [
    {
     "name": "stdout",
     "output_type": "stream",
     "text": [
      "***********************\n",
      "Accuracy Scores\n",
      "***********************\n",
      "Random Forest: 0.5630026809651475\n",
      "Desicion Tree: 0.5201072386058981\n",
      "Logistic Regression: 0.5361930294906166\n",
      "Bernouilli Naive Bias: 0.5415549597855228\n",
      "Gaussian Naive Bias: 0.5630026809651475\n",
      "KNN (K-Nearest Neighbors): 0.46380697050938335\n",
      "XGBoost: 0.5656836461126006\n"
     ]
    }
   ],
   "source": [
    "# Accuracy Scores\n",
    "# First parameter is actual value\n",
    "# second parameter is value that we prediceted\n",
    "\n",
    "# Random Forest \n",
    "acc_rf = accuracy_score(y_test, pred_rf)\n",
    "# Desicion Tree\n",
    "acc_dt = accuracy_score(y_test, pred_dt)\n",
    "# Logistic Regression\n",
    "acc_log = accuracy_score(y_test, pred_log)\n",
    "# Bernouilli Naive Bias\n",
    "acc_bnb = accuracy_score(y_test, pred_bnb)\n",
    "# Gaussian Naive Bias\n",
    "acc_gnb = accuracy_score(y_test, pred_gnb)\n",
    "# KNN (K-Nearest Neighbors)\n",
    "acc_knn = accuracy_score(y_test, pred_knn)\n",
    "# XGBoost \n",
    "acc_xgb = accuracy_score(y_test, pred_xgb)\n",
    "\n",
    "print(\"***********************\")\n",
    "print(\"Accuracy Scores\")\n",
    "print(\"***********************\")\n",
    "print(\"Random Forest:\", acc_rf)\n",
    "print(\"Desicion Tree:\", acc_dt)\n",
    "print(\"Logistic Regression:\", acc_log)\n",
    "print(\"Bernouilli Naive Bias:\", acc_bnb)\n",
    "print(\"Gaussian Naive Bias:\", acc_gnb)\n",
    "print(\"KNN (K-Nearest Neighbors):\", acc_knn)\n",
    "print(\"XGBoost:\", acc_xgb)"
   ]
  },
  {
   "cell_type": "markdown",
   "metadata": {},
   "source": [
    "### SKlearn pipeline"
   ]
  },
  {
   "cell_type": "code",
   "execution_count": 126,
   "metadata": {},
   "outputs": [],
   "source": [
    "from sklearn import metrics\n",
    "from sklearn.model_selection import train_test_split\n",
    "import itertools\n",
    "def plot_confusion_matrix(cm, classes,\n",
    "                          normalize=False,\n",
    "                          title='Confusion matrix',\n",
    "                          cmap=plt.cm.Blues):\n",
    "    \n",
    "    plt.imshow(cm, interpolation='nearest', cmap=cmap)\n",
    "    plt.title(title)\n",
    "    plt.colorbar()\n",
    "    tick_marks = np.arange(len(classes))\n",
    "    plt.xticks(tick_marks, classes, rotation=45)\n",
    "    plt.yticks(tick_marks, classes)\n",
    "    if normalize:\n",
    "\n",
    "        cm = cm.astype('float') / cm.sum(axis=1)[:, np.newaxis]\n",
    "    else:\n",
    "        print('Confusion matrix, without normalization')\n",
    "    thresh = cm.max() / 2.\n",
    "    for i, j in itertools.product(range(cm.shape[0]), range(cm.shape[1])):\n",
    "         plt.text(j, i, cm[i, j],horizontalalignment=\"center\",color=\"white\" if cm[i, j] > thresh else \"black\")\n",
    "         plt.tight_layout()\n",
    "         plt.ylabel('True label')\n",
    "         plt.xlabel('Predicted label')"
   ]
  },
  {
   "cell_type": "code",
   "execution_count": 127,
   "metadata": {},
   "outputs": [],
   "source": [
    "pipelin=Pipeline([('scalar1',StandardScaler()),\n",
    "                     ('pca1',PCA(n_components=2)),\n",
    "                     ('lr_classifier',LogisticRegression(random_state=0))])"
   ]
  },
  {
   "cell_type": "code",
   "execution_count": 128,
   "metadata": {},
   "outputs": [],
   "source": [
    "pipedes=Pipeline([('scalar2',StandardScaler()),\n",
    "                     ('pca2',PCA(n_components=2)),\n",
    "                     ('dt_classifier',DecisionTreeClassifier())])"
   ]
  },
  {
   "cell_type": "code",
   "execution_count": 129,
   "metadata": {},
   "outputs": [],
   "source": [
    "piperan=Pipeline([('scalar3',StandardScaler()),\n",
    "                     ('pca3',PCA(n_components=2)),\n",
    "                     ('rf_classifier',RandomForestClassifier())])"
   ]
  },
  {
   "cell_type": "code",
   "execution_count": 130,
   "metadata": {},
   "outputs": [],
   "source": [
    "pipeber=Pipeline([('scalar3',StandardScaler()),\n",
    "                     ('pca3',PCA(n_components=2)),\n",
    "                     ('rf_classifier',BernoulliNB())])"
   ]
  },
  {
   "cell_type": "code",
   "execution_count": 131,
   "metadata": {},
   "outputs": [],
   "source": [
    "pipexgb=Pipeline([('scalar3',StandardScaler()),\n",
    "                     ('pca3',PCA(n_components=2)),\n",
    "                     ('rf_classifier',XGBClassifier())])"
   ]
  },
  {
   "cell_type": "code",
   "execution_count": 132,
   "metadata": {},
   "outputs": [],
   "source": [
    "pipekn=Pipeline([('scalar3',StandardScaler()),\n",
    "                     ('pca3',PCA(n_components=2)),\n",
    "                     ('rf_classifier',KNeighborsClassifier())])"
   ]
  },
  {
   "cell_type": "code",
   "execution_count": 133,
   "metadata": {},
   "outputs": [],
   "source": [
    "pipexg=Pipeline([('scalar3',StandardScaler()),\n",
    "                     ('pca3',PCA(n_components=2)),\n",
    "                     ('rf_classifier',XGBClassifier())])"
   ]
  },
  {
   "cell_type": "code",
   "execution_count": 134,
   "metadata": {},
   "outputs": [],
   "source": [
    "## LEts make the list of pipelines\n",
    "pipelines = [pipelin, pipedes, piperan,pipeber,pipexgb,pipekn,pipexg]"
   ]
  },
  {
   "cell_type": "code",
   "execution_count": 135,
   "metadata": {},
   "outputs": [
    {
     "name": "stderr",
     "output_type": "stream",
     "text": [
      "2022/05/20 03:39:34 WARNING mlflow.utils.autologging_utils: Encountered unexpected error during sklearn autologging: The following failures occurred while performing one or more logging operations: [MlflowException('Failed to perform one or more operations on the run with ID c490675b422e4fe6b2b449e591003eef. Failed operations: [MlflowException(\"Changing param values is not allowed. Param with key=\\'verbose\\' was already logged with value=\\'0\\' for run ID=\\'c490675b422e4fe6b2b449e591003eef\\'. Attempted logging new value \\'False\\'.\")]')]\n",
      "2022/05/20 03:39:51 WARNING mlflow.utils.autologging_utils: Encountered unexpected error during sklearn autologging: The following failures occurred while performing one or more logging operations: [MlflowException('Failed to perform one or more operations on the run with ID c490675b422e4fe6b2b449e591003eef. Failed operations: [MlflowException(\"Changing param values is not allowed. Param with key=\\'steps\\' was already logged with value=\\'[(\\'scalar1\\', StandardScaler()), (\\'pca1\\', PCA(n_components=2)), (\\'lr_classifier\\', LogisticRegression(random_state=0))]\\' for run ID=\\'c490675b422e4fe6b2b449e591003eef\\'. Attempted logging new value \\'[(\\'scalar2\\', StandardScaler()), (\\'pca2\\', PCA(n_components=2)), (\\'dt_classifier\\', DecisionTreeClassifier())]\\'.\")]')]\n",
      "2022/05/20 03:40:09 WARNING mlflow.utils.autologging_utils: Encountered unexpected error during sklearn autologging: The following failures occurred while performing one or more logging operations: [MlflowException('Failed to perform one or more operations on the run with ID c490675b422e4fe6b2b449e591003eef. Failed operations: [MlflowException(\"Changing param values is not allowed. Param with key=\\'steps\\' was already logged with value=\\'[(\\'scalar1\\', StandardScaler()), (\\'pca1\\', PCA(n_components=2)), (\\'lr_classifier\\', LogisticRegression(random_state=0))]\\' for run ID=\\'c490675b422e4fe6b2b449e591003eef\\'. Attempted logging new value \\'[(\\'scalar3\\', StandardScaler()), (\\'pca3\\', PCA(n_components=2)), (\\'rf_classifier\\', RandomForestClassifier())]\\'.\")]')]\n",
      "2022/05/20 03:40:26 WARNING mlflow.utils.autologging_utils: Encountered unexpected error during sklearn autologging: The following failures occurred while performing one or more logging operations: [MlflowException('Failed to perform one or more operations on the run with ID c490675b422e4fe6b2b449e591003eef. Failed operations: [MlflowException(\"Changing param values is not allowed. Param with key=\\'steps\\' was already logged with value=\\'[(\\'scalar1\\', StandardScaler()), (\\'pca1\\', PCA(n_components=2)), (\\'lr_classifier\\', LogisticRegression(random_state=0))]\\' for run ID=\\'c490675b422e4fe6b2b449e591003eef\\'. Attempted logging new value \\'[(\\'scalar3\\', StandardScaler()), (\\'pca3\\', PCA(n_components=2)), (\\'rf_classifier\\', BernoulliNB())]\\'.\")]')]\n",
      "2022/05/20 03:40:26 WARNING mlflow.utils: Truncated the value of the key `steps`. Truncated value: `[('scalar3', StandardScaler()), ('pca3', PCA(n_components=2)), ('rf_classifier', XGBClassifier(base_score=None, booster=None, callbacks=None,\n",
      "              colsample_bylevel=None, colsample_bynode=None,\n",
      "              colsample_bytree=None, early_s...`\n",
      "2022/05/20 03:40:26 WARNING mlflow.utils: Truncated the value of the key `rf_classifier`. Truncated value: `XGBClassifier(base_score=None, booster=None, callbacks=None,\n",
      "              colsample_bylevel=None, colsample_bynode=None,\n",
      "              colsample_bytree=None, early_stopping_rounds=None,\n",
      "              enable_categorical=False, eval_metric=None, ga...`\n",
      "2022/05/20 03:40:27 WARNING mlflow.utils.autologging_utils: Encountered unexpected error during xgboost autologging: The following failures occurred while performing one or more logging operations: [MlflowException('Failed to perform one or more operations on the run with ID c490675b422e4fe6b2b449e591003eef. Failed operations: [MlflowException(\"Changing param values is not allowed. Param with key=\\'learning_rate\\' was already logged with value=\\'0.05\\' for run ID=\\'c490675b422e4fe6b2b449e591003eef\\'. Attempted logging new value \\'None\\'.\")]')]\n",
      "2022/05/20 03:40:41 WARNING mlflow.utils.autologging_utils: Encountered unexpected error during sklearn autologging: The following failures occurred while performing one or more logging operations: [MlflowException('Failed to perform one or more operations on the run with ID c490675b422e4fe6b2b449e591003eef. Failed operations: [MlflowException(\"Changing param values is not allowed. Param with key=\\'steps\\' was already logged with value=\\'[(\\'scalar1\\', StandardScaler()), (\\'pca1\\', PCA(n_components=2)), (\\'lr_classifier\\', LogisticRegression(random_state=0))]\\' for run ID=\\'c490675b422e4fe6b2b449e591003eef\\'. Attempted logging new value \\'[(\\'scalar3\\', StandardScaler()), (\\'pca3\\', PCA(n_components=2)), (\\'rf_classifier\\', XGBClassifier(base_score=None, booster=None, callbacks=None,\\\\n              colsample_bylevel=None, colsample_bynode=None,\\\\n              colsample_bytree=None, early_s...\\'.\")]')]\n",
      "2022/05/20 03:40:55 WARNING mlflow.utils.autologging_utils: Encountered unexpected error during sklearn autologging: The following failures occurred while performing one or more logging operations: [MlflowException('Failed to perform one or more operations on the run with ID c490675b422e4fe6b2b449e591003eef. Failed operations: [MlflowException(\"Changing param values is not allowed. Param with key=\\'steps\\' was already logged with value=\\'[(\\'scalar1\\', StandardScaler()), (\\'pca1\\', PCA(n_components=2)), (\\'lr_classifier\\', LogisticRegression(random_state=0))]\\' for run ID=\\'c490675b422e4fe6b2b449e591003eef\\'. Attempted logging new value \\'[(\\'scalar3\\', StandardScaler()), (\\'pca3\\', PCA(n_components=2)), (\\'rf_classifier\\', KNeighborsClassifier())]\\'.\")]')]\n",
      "2022/05/20 03:40:55 WARNING mlflow.utils: Truncated the value of the key `steps`. Truncated value: `[('scalar3', StandardScaler()), ('pca3', PCA(n_components=2)), ('rf_classifier', XGBClassifier(base_score=None, booster=None, callbacks=None,\n",
      "              colsample_bylevel=None, colsample_bynode=None,\n",
      "              colsample_bytree=None, early_s...`\n",
      "2022/05/20 03:40:55 WARNING mlflow.utils: Truncated the value of the key `rf_classifier`. Truncated value: `XGBClassifier(base_score=None, booster=None, callbacks=None,\n",
      "              colsample_bylevel=None, colsample_bynode=None,\n",
      "              colsample_bytree=None, early_stopping_rounds=None,\n",
      "              enable_categorical=False, eval_metric=None, ga...`\n",
      "2022/05/20 03:40:56 WARNING mlflow.utils.autologging_utils: Encountered unexpected error during xgboost autologging: The following failures occurred while performing one or more logging operations: [MlflowException('Failed to perform one or more operations on the run with ID c490675b422e4fe6b2b449e591003eef. Failed operations: [MlflowException(\"Changing param values is not allowed. Param with key=\\'learning_rate\\' was already logged with value=\\'0.05\\' for run ID=\\'c490675b422e4fe6b2b449e591003eef\\'. Attempted logging new value \\'None\\'.\")]')]\n",
      "2022/05/20 03:41:10 WARNING mlflow.utils.autologging_utils: Encountered unexpected error during sklearn autologging: The following failures occurred while performing one or more logging operations: [MlflowException('Failed to perform one or more operations on the run with ID c490675b422e4fe6b2b449e591003eef. Failed operations: [MlflowException(\"Changing param values is not allowed. Param with key=\\'steps\\' was already logged with value=\\'[(\\'scalar1\\', StandardScaler()), (\\'pca1\\', PCA(n_components=2)), (\\'lr_classifier\\', LogisticRegression(random_state=0))]\\' for run ID=\\'c490675b422e4fe6b2b449e591003eef\\'. Attempted logging new value \\'[(\\'scalar3\\', StandardScaler()), (\\'pca3\\', PCA(n_components=2)), (\\'rf_classifier\\', XGBClassifier(base_score=None, booster=None, callbacks=None,\\\\n              colsample_bylevel=None, colsample_bynode=None,\\\\n              colsample_bytree=None, early_s...\\'.\")]')]\n"
     ]
    }
   ],
   "source": [
    "# Dictionary of pipelines and classifier types for ease of reference\n",
    "pipe_dict = {0: 'Logistic Regression', 1: 'Decision Tree', 2: 'RandomForest',3:'Bernouilli Naive Bias',4:'Gaussian Naive Bias',5:'KNN',6:'XGBoost'}\n",
    "\n",
    "# Fit the pipelines\n",
    "for pipe in pipelines:\n",
    "\tpipe.fit(X_train, y_train)"
   ]
  },
  {
   "cell_type": "code",
   "execution_count": 136,
   "metadata": {},
   "outputs": [
    {
     "name": "stdout",
     "output_type": "stream",
     "text": [
      "Logistic Regression Test Accuracy: 0.5388739946380697\n",
      "Decision Tree Test Accuracy: 0.5442359249329759\n",
      "RandomForest Test Accuracy: 0.5817694369973191\n",
      "Bernouilli Naive Bias Test Accuracy: 0.5388739946380697\n",
      "Gaussian Naive Bias Test Accuracy: 0.5335120643431636\n",
      "KNN Test Accuracy: 0.5308310991957105\n",
      "XGBoost Test Accuracy: 0.5335120643431636\n"
     ]
    }
   ],
   "source": [
    "for i,model in enumerate(pipelines):\n",
    "    print(\"{} Test Accuracy: {}\".format(pipe_dict[i],model.score(X_test,y_test)))"
   ]
  },
  {
   "cell_type": "code",
   "execution_count": 137,
   "metadata": {},
   "outputs": [],
   "source": [
    "best_accuracy=0.0\n",
    "best_classifier=0\n",
    "best_pipeline=\"\""
   ]
  },
  {
   "cell_type": "code",
   "execution_count": 138,
   "metadata": {},
   "outputs": [
    {
     "name": "stdout",
     "output_type": "stream",
     "text": [
      "Classifier with best accuracy:RandomForest\n"
     ]
    }
   ],
   "source": [
    "for i,model in enumerate(pipelines):\n",
    "    if model.score(X_test,y_test)>best_accuracy:\n",
    "        best_accuracy=model.score(X_test,y_test)\n",
    "        best_pipeline=model\n",
    "        best_classifier=i\n",
    "    \n",
    "print('Classifier with best accuracy:{}'.format(pipe_dict[best_classifier]))"
   ]
  },
  {
   "cell_type": "code",
   "execution_count": 139,
   "metadata": {},
   "outputs": [
    {
     "name": "stderr",
     "output_type": "stream",
     "text": [
      "2022/05/20 03:41:33 WARNING mlflow.utils.autologging_utils: Encountered unexpected error during sklearn autologging: The following failures occurred while performing one or more logging operations: [MlflowException('Failed to perform one or more operations on the run with ID c490675b422e4fe6b2b449e591003eef. Failed operations: [MlflowException(\"Changing param values is not allowed. Param with key=\\'criterion\\' was already logged with value=\\'mse\\' for run ID=\\'c490675b422e4fe6b2b449e591003eef\\'. Attempted logging new value \\'gini\\'.\")]')]\n"
     ]
    }
   ],
   "source": [
    "import pickle\n",
    "model=RandomForestClassifier()\n",
    "model.fit(X_train, y_train)\n",
    "filename = 'finalized_model.sav'\n",
    "pickle.dump(model, open(filename, 'wb'))"
   ]
  },
  {
   "cell_type": "code",
   "execution_count": 140,
   "metadata": {},
   "outputs": [
    {
     "name": "stdout",
     "output_type": "stream",
     "text": [
      "0.5710455764075067\n"
     ]
    }
   ],
   "source": [
    "loaded_model = pickle.load(open(filename, 'rb'))\n",
    "result = loaded_model.score(X_test, y_test)\n",
    "print(result)"
   ]
  },
  {
   "cell_type": "code",
   "execution_count": 141,
   "metadata": {},
   "outputs": [
    {
     "name": "stderr",
     "output_type": "stream",
     "text": [
      "2022/05/20 03:41:51 WARNING mlflow.utils.autologging_utils: Encountered unexpected error during sklearn autologging: The following failures occurred while performing one or more logging operations: [MlflowException('Failed to perform one or more operations on the run with ID c490675b422e4fe6b2b449e591003eef. Failed operations: [MlflowException(\"Changing param values is not allowed. Param with key=\\'steps\\' was already logged with value=\\'[(\\'scalar1\\', StandardScaler()), (\\'pca1\\', PCA(n_components=2)), (\\'lr_classifier\\', LogisticRegression(random_state=0))]\\' for run ID=\\'c490675b422e4fe6b2b449e591003eef\\'. Attempted logging new value \\'[(\\'model\\', LogisticRegression(random_state=0))]\\'.\")]')]\n"
     ]
    },
    {
     "name": "stdout",
     "output_type": "stream",
     "text": [
      "accuracy: 53.62%\n",
      "Confusion matrix, without normalization\n"
     ]
    },
    {
     "data": {
      "image/png": "[encoded data removed]",
      "text/plain": [
       "<Figure size 432x288 with 2 Axes>"
      ]
     },
     "metadata": {
      "needs_background": "light"
     },
     "output_type": "display_data"
    }
   ],
   "source": [
    "from sklearn.pipeline import Pipeline\n",
    "pipe = Pipeline([('model', LogisticRegression(random_state=0))])\n",
    "model = pipe.fit(X_train, y_train)\n",
    "prediction = model.predict(X_test)\n",
    "print(\"accuracy: {}%\".format(round(accuracy_score(y_test, prediction)*100,2)))\n",
    "cm = metrics.confusion_matrix(y_test, prediction)\n",
    "plot_confusion_matrix(cm, classes=['Fake', 'Real'])"
   ]
  },
  {
   "cell_type": "code",
   "execution_count": 142,
   "metadata": {},
   "outputs": [
    {
     "name": "stderr",
     "output_type": "stream",
     "text": [
      "2022/05/20 03:42:10 WARNING mlflow.utils.autologging_utils: Encountered unexpected error during sklearn autologging: The following failures occurred while performing one or more logging operations: [MlflowException('Failed to perform one or more operations on the run with ID c490675b422e4fe6b2b449e591003eef. Failed operations: [MlflowException(\"Changing param values is not allowed. Param with key=\\'steps\\' was already logged with value=\\'[(\\'scalar1\\', StandardScaler()), (\\'pca1\\', PCA(n_components=2)), (\\'lr_classifier\\', LogisticRegression(random_state=0))]\\' for run ID=\\'c490675b422e4fe6b2b449e591003eef\\'. Attempted logging new value \\'[(\\'model\\', RandomForestClassifier())]\\'.\")]')]\n"
     ]
    },
    {
     "name": "stdout",
     "output_type": "stream",
     "text": [
      "accuracy: 54.96%\n",
      "Confusion matrix, without normalization\n"
     ]
    },
    {
     "data": {
      "image/png": "[encoded data removed]",
      "text/plain": [
       "<Figure size 432x288 with 2 Axes>"
      ]
     },
     "metadata": {
      "needs_background": "light"
     },
     "output_type": "display_data"
    }
   ],
   "source": [
    "from sklearn.pipeline import Pipeline\n",
    "pipe = Pipeline([('model', RandomForestClassifier())])\n",
    "model = pipe.fit(X_train, y_train)\n",
    "prediction = model.predict(X_test)\n",
    "print(\"accuracy: {}%\".format(round(accuracy_score(y_test, prediction)*100,2)))\n",
    "cm = metrics.confusion_matrix(y_test, prediction)\n",
    "plot_confusion_matrix(cm, classes=['Fake', 'Real'])"
   ]
  },
  {
   "cell_type": "code",
   "execution_count": 143,
   "metadata": {},
   "outputs": [],
   "source": [
    "from sklearn.pipeline import Pipeline\n",
    "pipe = Pipeline([('model', DecisionTreeClassifier())])\n",
    "model = pipe.fit(X_train, y_train)\n",
    "prediction = model.predict(X_test)\n",
    "print(\"accuracy: {}%\".format(round(accuracy_score(y_test, prediction)*100,2)))\n",
    "cm = metrics.confusion_matrix(y_test, prediction)\n",
    "plot_confusion_matrix(cm, classes=['Yes', 'No'])"
   ]
  },
  {
   "cell_type": "code",
   "execution_count": null,
   "metadata": {},
   "outputs": [],
   "source": [
    "from sklearn.pipeline import Pipeline\n",
    "pipe = Pipeline([('model', BernoulliNB())])\n",
    "model = pipe.fit(X_train, y_train)\n",
    "prediction = model.predict(X_test)\n",
    "print(\"accuracy: {}%\".format(round(accuracy_score(y_test, prediction)*100,2)))\n",
    "cm = metrics.confusion_matrix(y_test, prediction)\n",
    "plot_confusion_matrix(cm, classes=['Yes', 'No'])"
   ]
  },
  {
   "cell_type": "code",
   "execution_count": null,
   "metadata": {},
   "outputs": [],
   "source": [
    "from sklearn.pipeline import Pipeline\n",
    "pipe = Pipeline([('model', GaussianNB())])\n",
    "model = pipe.fit(X_train, y_train)\n",
    "prediction = model.predict(X_test)\n",
    "print(\"accuracy: {}%\".format(round(accuracy_score(y_test, prediction)*100,2)))\n",
    "cm = metrics.confusion_matrix(y_test, prediction)\n",
    "plot_confusion_matrix(cm, classes=['Yes', 'No'])"
   ]
  },
  {
   "cell_type": "code",
   "execution_count": null,
   "metadata": {},
   "outputs": [],
   "source": []
  },
  {
   "cell_type": "code",
   "execution_count": null,
   "metadata": {},
   "outputs": [],
   "source": [
    "from sklearn.pipeline import Pipeline\n",
    "pipe = Pipeline([('model', XGBClassifier())])\n",
    "model = pipe.fit(X_train, y_train)\n",
    "prediction = model.predict(X_test)\n",
    "print(\"accuracy: {}%\".format(round(accuracy_score(y_test, prediction)*100,2)))\n",
    "cm = metrics.confusion_matrix(y_test, prediction)\n",
    "plot_confusion_matrix(cm, classes=['Fake', 'Real'])"
   ]
  },
  {
   "cell_type": "code",
   "execution_count": null,
   "metadata": {},
   "outputs": [],
   "source": [
    "from sklearn.pipeline import Pipeline\n",
    "pipe = Pipeline([('model', KNeighborsClassifier())])\n",
    "model = pipe.fit(X_train, y_train)\n",
    "prediction = model.predict(X_test)\n",
    "print(\"accuracy: {}%\".format(round(accuracy_score(y_test, prediction)*100,2)))\n",
    "cm = metrics.confusion_matrix(y_test, prediction)\n",
    "plot_confusion_matrix(cm, classes=['Fake', 'Real'])"
   ]
  },
  {
   "cell_type": "code",
   "execution_count": null,
   "metadata": {},
   "outputs": [],
   "source": [
    "plt.barh(feature_cols, rf.feature_importances_,color='purple')\n"
   ]
  },
  {
   "cell_type": "markdown",
   "metadata": {},
   "source": [
    "Based on the feature importance calculation of our ml model we can conclude that device make and hour has a vital role on brand awareness\n"
   ]
  },
  {
   "cell_type": "markdown",
   "metadata": {},
   "source": [
    "Separating data in two platform and browser datasets"
   ]
  },
  {
   "cell_type": "code",
   "execution_count": null,
   "metadata": {},
   "outputs": [],
   "source": [
    "import mlflow\n",
    "\n",
    "from sklearn.model_selection import train_test_split\n",
    "\n",
    "from sklearn.ensemble import RandomForestRegressor\n",
    "\n",
    "mlflow.autolog()\n",
    "\n",
    "brw = clean_df[[\"experiment\", \"hour\", \"date\", 'device_make', 'browser', 'aware']]\n",
    "\n",
    "data1=brw.to_csv(r\"C:\\Users\\ende\\Desktop\\abtest-mlops\\data\\brw.csv\")  \n",
    "plat = clean_df[[\"experiment\", \"hour\", \"date\", 'device_make', 'platform_os', 'aware']]\n",
    "\n",
    "\n"
   ]
  },
  {
   "cell_type": "markdown",
   "metadata": {},
   "source": [
    "The datasets of browser and platform  are saved as version two and version three respectively on dvc"
   ]
  },
  {
   "cell_type": "code",
   "execution_count": null,
   "metadata": {},
   "outputs": [],
   "source": [
    "#trainig the browser dataset\n",
    "x=brw[[\"experiment\", \"hour\", \"date\", \"device_make\", \"browser\"]]\n",
    "#X_train, X_test, y_train, y_test = train_test_split(X, y, test_size=test_size, random_state=42)\n",
    "X_train, X_test, y_train, y_test = train_test_split(x, brw.aware,test_size=0.3,random_state=45)\n"
   ]
  },
  {
   "cell_type": "code",
   "execution_count": null,
   "metadata": {},
   "outputs": [],
   "source": [
    "#calling the algorithems to check their respective performace\n",
    "rf = RandomForestRegressor(n_estimators = 100, max_depth = 6, max_features = 3)\n",
    "rf.fit(X_train, y_train)\n",
    "\n",
    "# Use the model to make predictions on the test dataset.\n",
    "predictions = rf.predict(X_test)\n",
    "autolog_run = mlflow.last_active_run()\n",
    "sk_model=rf\n",
    "sk_path_dir_2 = r'C:\\Users\\ende\\Desktop\\abtest-mlops\\models'\n",
    "mlflow.sklearn.save_model(sk_model,sk_path_dir_2,serialization_format=mlflow.sklearn.SERIALIZATION_FORMAT_CLOUDPICKLE)"
   ]
  },
  {
   "cell_type": "code",
   "execution_count": null,
   "metadata": {},
   "outputs": [],
   "source": [
    "#calling the logistic to check their respective performace\n",
    "lg = LogisticRegression()\n",
    "rf.fit(X_train, y_train)\n",
    "\n",
    "# Use the model to make predictions on the test dataset.\n",
    "predictions = lg.predict(X_test)\n",
    "autolog_run = mlflow.last_active_run()\n",
    "sk_model=rf\n",
    "sk_path_dir_2 = r'C:\\Users\\ende\\Desktop\\abtest-mlops\\models'\n",
    "mlflow.sklearn.save_model(sk_model,sk_path_dir_2,serialization_format=mlflow.sklearn.SERIALIZATION_FORMAT_CLOUDPICKLE)\n"
   ]
  },
  {
   "cell_type": "code",
   "execution_count": null,
   "metadata": {},
   "outputs": [],
   "source": [
    "#calling the logistic to check their respective performace\n",
    "kn = KNeighborsClassifier()\n",
    "rf.fit(X_train, y_train)\n",
    "\n",
    "# Use the model to make predictions on the test dataset.\n",
    "predictions = kn.predict(X_test)\n",
    "autolog_run = mlflow.last_active_run()\n",
    "sk_model=rf\n",
    "sk_path_dir_2 = r'C:\\Users\\ende\\Desktop\\abtest-mlops\\models'\n",
    "mlflow.sklearn.save_model(sk_model,sk_path_dir_2,serialization_format=mlflow.sklearn.SERIALIZATION_FORMAT_CLOUDPICKLE)\n",
    "\n"
   ]
  },
  {
   "cell_type": "code",
   "execution_count": null,
   "metadata": {},
   "outputs": [],
   "source": [
    "#saving the best perfomer model\n",
    "modelpath = \"/dbfs/my_project_models/model-%f-%f\" % (alpha, l1_ratio)\n",
    "  mlflow.sklearn.save_model(lr, modelpath)"
   ]
  },
  {
   "cell_type": "code",
   "execution_count": null,
   "metadata": {},
   "outputs": [],
   "source": [
    "#trainig the platform dataset\n",
    "x=plt[[\"experiment\", \"hour\", \"date\", \"device_make\", \"platform_os\"]]\n",
    "#X_train, X_test, y_train, y_test = train_test_split(X, y, test_size=test_size, random_state=42)\n",
    "X_train, X_test, y_train, y_test = train_test_split(x, plt.aware,test_size=0.3,random_state=45)\n",
    "\n"
   ]
  },
  {
   "cell_type": "code",
   "execution_count": null,
   "metadata": {},
   "outputs": [],
   "source": [
    "#calling the algorithems to check their respective performace\n",
    "rf = RandomForestRegressor(n_estimators = 100, max_depth = 6, max_features = 3)\n",
    "rf.fit(X_train, y_train)\n",
    "\n",
    "# Use the model to make predictions on the test dataset.\n",
    "predictions = rf.predict(X_test)\n",
    "autolog_run = mlflow.last_active_run()\n",
    "sk_model=rf\n",
    "sk_path_dir_2 = r'C:\\Users\\ende\\Desktop\\abtest-mlops\\models'\n",
    "mlflow.sklearn.save_model(sk_model,sk_path_dir_2,serialization_format=mlflow.sklearn.SERIALIZATION_FORMAT_CLOUDPICKLE)"
   ]
  },
  {
   "cell_type": "code",
   "execution_count": null,
   "metadata": {},
   "outputs": [],
   "source": [
    "#calling the logistic to check their respective performace\n",
    "lg = LogisticRegression()\n",
    "rf.fit(X_train, y_train)\n",
    "\n",
    "# Use the model to make predictions on the test dataset.\n",
    "predictions = lg.predict(X_test)\n",
    "autolog_run = mlflow.last_active_run()\n",
    "sk_model=rf\n",
    "sk_path_dir_2 = r'C:\\Users\\ende\\Desktop\\abtest-mlops\\models'\n",
    "mlflow.sklearn.save_model(sk_model,sk_path_dir_2,serialization_format=mlflow.sklearn.SERIALIZATION_FORMAT_CLOUDPICKLE)\n"
   ]
  },
  {
   "cell_type": "code",
   "execution_count": null,
   "metadata": {},
   "outputs": [],
   "source": [
    "#calling the logistic to check their respective performace\n",
    "kn = KNeighborsClassifier()\n",
    "rf.fit(X_train, y_train)\n",
    "\n",
    "# Use the model to make predictions on the test dataset.\n",
    "predictions = kn.predict(X_test)\n",
    "autolog_run = mlflow.last_active_run()\n",
    "sk_model=rf\n",
    "sk_path_dir_2 = r'C:\\Users\\ende\\Desktop\\abtest-mlops\\models'\n",
    "mlflow.sklearn.save_model(sk_model,sk_path_dir_2,serialization_format=mlflow.sklearn.SERIALIZATION_FORMAT_CLOUDPICKLE)\n",
    "\n"
   ]
  },
  {
   "cell_type": "code",
   "execution_count": null,
   "metadata": {},
   "outputs": [],
   "source": [
    "#saving the best perfomer model\n",
    "modelpath = \"/dbfs/my_project_models/model-%f-%f\" % (alpha, l1_ratio)\n",
    "  mlflow.sklearn.save_model(lr, modelpath)"
   ]
  }
 ],
 "metadata": {
  "interpreter": {
   "hash": "9b7d426eed365029940cc2da1629aed3d3f5bb985c016bbcb41ed7ea793a7eb0"
  },
  "kernelspec": {
   "display_name": "Python 3.8.8 ('base')",
   "language": "python",
   "name": "python3"
  },
  "language_info": {
   "codemirror_mode": {
    "name": "ipython",
    "version": 3
   },
   "file_extension": ".py",
   "mimetype": "text/x-python",
   "name": "python",
   "nbconvert_exporter": "python",
   "pygments_lexer": "ipython3",
   "version": "3.8.8"
  },
  "orig_nbformat": 4
 },
 "nbformat": 4,
 "nbformat_minor": 2
}
